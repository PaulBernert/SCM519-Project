{
 "cells": [
  {
   "cell_type": "code",
   "execution_count": 1,
   "metadata": {},
   "outputs": [],
   "source": [
    "### DO NOT EDIT THIS CELL!!!\n",
    "### DO NOT IMPORT ANY ADDITIONAL PACKAGES\n",
    "\n",
    "import numpy as np\n",
    "import scipy\n",
    "from sklearn.metrics import accuracy_score\n",
    "from sklearn.metrics import r2_score, mean_squared_error\n",
    "import matplotlib.pyplot as plt\n",
    "%matplotlib inline"
   ]
  },
  {
   "cell_type": "markdown",
   "metadata": {},
   "source": [
    "### PART 1\n",
    "\n",
    "* Logistic Regression for Binary Classification using the breast cancer dataset\n",
    "\n",
    "* We aren't going to preproces data or split  into train/test since the focus here is purely on the gradient descent algorithm\n",
    "\n",
    "* NOTE: YOU WILL ONLY EDIT ONE CELL FOR PART-1 (SEE BELOW)"
   ]
  },
  {
   "cell_type": "code",
   "execution_count": 2,
   "metadata": {},
   "outputs": [
    {
     "name": "stdout",
     "output_type": "stream",
     "text": [
      "X:  (569, 30)\n",
      "y:  (569, 1)\n",
      "m:  569\n",
      "n:  30\n",
      "features:  ['mean radius' 'mean texture' 'mean perimeter' 'mean area'\n",
      " 'mean smoothness' 'mean compactness' 'mean concavity'\n",
      " 'mean concave points' 'mean symmetry' 'mean fractal dimension'\n",
      " 'radius error' 'texture error' 'perimeter error' 'area error'\n",
      " 'smoothness error' 'compactness error' 'concavity error'\n",
      " 'concave points error' 'symmetry error' 'fractal dimension error'\n",
      " 'worst radius' 'worst texture' 'worst perimeter' 'worst area'\n",
      " 'worst smoothness' 'worst compactness' 'worst concavity'\n",
      " 'worst concave points' 'worst symmetry' 'worst fractal dimension']\n"
     ]
    }
   ],
   "source": [
    "### DO NOT EDIT THIS CELL!!!\n",
    "\n",
    "# read the breast cancer dataset from sklearn\n",
    "from sklearn.datasets import load_breast_cancer\n",
    "\n",
    "dataset = load_breast_cancer()\n",
    "\n",
    "# samples X: mxn\n",
    "X = dataset.data\n",
    "print (\"X: \", X.shape)\n",
    "\n",
    "# targets y: mx1\n",
    "y = dataset.target\n",
    "y = y.reshape(y.shape[0], 1)\n",
    "print (\"y: \", y.shape)\n",
    "\n",
    "# number of samples: m\n",
    "m = X.shape[0]\n",
    "print (\"m: \", m)\n",
    "\n",
    "# number of features: n\n",
    "n = X.shape[1]\n",
    "features = dataset.feature_names\n",
    "print (\"n: \",n)\n",
    "print (\"features: \", features)"
   ]
  },
  {
   "cell_type": "code",
   "execution_count": 3,
   "metadata": {
    "scrolled": false
   },
   "outputs": [
    {
     "name": "stdout",
     "output_type": "stream",
     "text": [
      "Accuracy Score: 91.9156%\n"
     ]
    },
    {
     "data": {
      "image/png": "[encoded data removed]",
      "text/plain": [
       "<Figure size 432x288 with 1 Axes>"
      ]
     },
     "metadata": {
      "needs_background": "light"
     },
     "output_type": "display_data"
    }
   ],
   "source": [
    "### THIS IS THE ONLY CELL YOU MUST EDIT FOR PART-1\n",
    "\n",
    "# Train the Logistic Regression Model\n",
    "nepochs = 5000\n",
    "alpha = 2.5e-6\n",
    "\n",
    "# Initialize w and b\n",
    "w = np.zeros((n,1))\n",
    "b = 0\n",
    "eps=1e-8\n",
    "\n",
    "# This List Will Collect Cost for Each Iteration\n",
    "costs = []\n",
    "\n",
    "# Repeat for nepochs\n",
    "for i in range(nepochs):\n",
    "    \n",
    "    # Forward Pass (Calculate Current Loss)\n",
    "    z = X@w+b\n",
    "    yhat = scipy.special.expit(z)\n",
    "    yhatClipped = np.maximum(eps, np.minimum(1-eps, yhat))\n",
    "    J = (-1./m) * (y.T@np.log(yhatClipped) + (1-y.T)@np.log(1-yhatClipped))\n",
    "    J_1 = np.squeeze(J)\n",
    "    \n",
    "    # Backward Propagation (Calculate Current Gradient)\n",
    "    dJ_dw = (1/m) * X.T@(yhat-y)\n",
    "    dJ_db = (1/m) * np.sum((yhat-y), axis=0, keepdims=True)\n",
    " \n",
    "    # Gradient Descent (Update Parameters)\n",
    "    w = w-alpha*dJ_dw\n",
    "    b = b-alpha*dJ_db\n",
    "    \n",
    "    # Append Loss\n",
    "    costs.append(J_1)\n",
    "\n",
    "# Use Final Parameters w and b to Calcualte Accuracy for Training Data X, y\n",
    "\n",
    "# Calcualte z, (rounded) yhat (since binary classification)\n",
    "z = X@w+b\n",
    "yhatRounded = yhatClipped.round()\n",
    "\n",
    "#  Calcualte accuracy_score(y, yhat) and Print It\n",
    "print(f\"Accuracy Score: {round(accuracy_score(y, yhatRounded, normalize=True, sample_weight=None),6)*100}%\")\n",
    "\n",
    "# Plot the Costs Against Iterations and Show Plot\n",
    "plt.plot(np.array(range(0, nepochs)), costs, linewidth=3)\n",
    "plt.xlabel('Number of Iterations')\n",
    "plt.ylabel('Cost')\n",
    "plt.title('Cost Relative to Number of Iterations')\n",
    "plt.grid()\n",
    "plt.show()"
   ]
  },
  {
   "cell_type": "code",
   "execution_count": 4,
   "metadata": {},
   "outputs": [
    {
     "name": "stdout",
     "output_type": "stream",
     "text": [
      "0.92\n"
     ]
    }
   ],
   "source": [
    "### DO NOT EDIT THIS CELL!!!\n",
    "\n",
    "# compare results from your implementation to that of SGDClassifier\n",
    "# your accuracy score above should match (or be very close to) what you get from here\n",
    "\n",
    "nepochs = 5000\n",
    "alpha = 2.5e-6\n",
    "y = y.reshape(y.shape[0],) # to avoid warning\n",
    "\n",
    "from sklearn.linear_model import SGDClassifier\n",
    "clf = SGDClassifier(loss='log', # loss function for logistic regression\n",
    "                    penalty=None, alpha=0, # no regularization\n",
    "                    max_iter=nepochs, tol=None, # stop based only on nepochs\n",
    "                    shuffle=False, random_state=0, # don't shuffle, use random state to replicate results\n",
    "                    learning_rate='constant', eta0=alpha) # constant learning rate of alpha\n",
    "clf.fit(X,y)\n",
    "print (round(clf.score(X,y),2))"
   ]
  },
  {
   "cell_type": "markdown",
   "metadata": {},
   "source": [
    "### Part 2\n",
    "\n",
    "* Linear Regression using the diabetes dataset \n",
    "\n",
    "* We aren't going to preproces data or split  into train/test since the focus here is purely on the gradient descent algorithm\n",
    "\n",
    "* NOTE: YOU WILL ONLY EDIT ONE CELL FOR PART-2 (SEE BELOW)"
   ]
  },
  {
   "cell_type": "code",
   "execution_count": 5,
   "metadata": {},
   "outputs": [
    {
     "name": "stdout",
     "output_type": "stream",
     "text": [
      "X:  (442, 10)\n",
      "y:  (442, 1)\n",
      "m:  442\n",
      "n:  10\n",
      "features:  ['age', 'sex', 'bmi', 'bp', 's1', 's2', 's3', 's4', 's5', 's6']\n"
     ]
    }
   ],
   "source": [
    "### DO NOT EDIT THIS CELL!!!\n",
    "\n",
    "# read the diabetes dataset from sklearn\n",
    "from sklearn.datasets import load_diabetes\n",
    "\n",
    "dataset = load_diabetes()\n",
    "\n",
    "# samples X: mxn\n",
    "X = dataset.data\n",
    "print (\"X: \", X.shape)\n",
    "\n",
    "# targets y: mx1\n",
    "y = dataset.target\n",
    "y = y.reshape(y.shape[0], 1)\n",
    "print (\"y: \", y.shape)\n",
    "\n",
    "# number of samples: m\n",
    "m = X.shape[0]\n",
    "print (\"m: \", m)\n",
    "\n",
    "# number of features: n\n",
    "n = X.shape[1]\n",
    "features = dataset.feature_names\n",
    "print (\"n: \",n)\n",
    "print (\"features: \", features)"
   ]
  },
  {
   "cell_type": "code",
   "execution_count": 6,
   "metadata": {},
   "outputs": [
    {
     "name": "stdout",
     "output_type": "stream",
     "text": [
      "RMSE: 2880.48815\n",
      "R2 Score: 0.514242\n"
     ]
    },
    {
     "data": {
      "image/png": "[encoded data removed]",
      "text/plain": [
       "<Figure size 432x288 with 1 Axes>"
      ]
     },
     "metadata": {
      "needs_background": "light"
     },
     "output_type": "display_data"
    }
   ],
   "source": [
    "### THIS IS THE ONLY CELL YOU MUST EDIT FOR PART-2\n",
    "\n",
    "# Train the Linear Regression Model\n",
    "nepochs = 5000\n",
    "alpha = 0.5\n",
    "\n",
    "# Initialize w and b\n",
    "w = np.zeros((n,1))\n",
    "b = 0\n",
    "\n",
    "# This List Will Collect Cost for Each Iteration\n",
    "costs = []\n",
    "\n",
    "# Repeat for nepochs\n",
    "for i in range (nepochs):\n",
    "        \n",
    "    # Forward Pass (Calculate Current Loss)\n",
    "    z = X@w+b\n",
    "    yhat = z\n",
    "    J = (1/(2*m)) * ((yhat-y).T)@(yhat-y)\n",
    "    J_1 = np.squeeze(J)\n",
    "        \n",
    "    # Backward Propagation (Calculate Current Gradient)\n",
    "    dJ_dw = (1/m) * X.T@(yhat-y)\n",
    "    dJ_db = (1/m) * np.sum((yhat-y), axis=0, keepdims=True)\n",
    "    \n",
    "    # Gradient Descent (Update Parameters)\n",
    "    w = w-alpha*dJ_dw\n",
    "    b = b-alpha*dJ_db\n",
    "         \n",
    "    # Append Loss\n",
    "    costs.append(J_1)\n",
    "    \n",
    "# Use Final Parameters w and b to Calcualte mse and r2 for Training Data X, y\n",
    "# Calcualte z, yhat\n",
    "z = X@w+b\n",
    "yhat = z\n",
    "\n",
    "# Calculate mean_squared_error(y, yhat)\n",
    "print(f\"RMSE: {round(mean_squared_error(y, yhat),6)}\")\n",
    "         \n",
    "# Calculate r2_score(y, yhat)\n",
    "print(f\"R2 Score: {round(r2_score(y, yhat),6)}\")\n",
    "\n",
    "# plot the costs against iterations and show plot\n",
    "plt.plot(np.array(range(0, nepochs)), costs, linewidth=3)\n",
    "plt.xlabel('Number of Iterations')\n",
    "plt.ylabel('Cost')\n",
    "plt.title('Cost Relative to Number of Iterations')\n",
    "plt.grid()\n",
    "plt.show()"
   ]
  },
  {
   "cell_type": "code",
   "execution_count": 7,
   "metadata": {},
   "outputs": [
    {
     "name": "stdout",
     "output_type": "stream",
     "text": [
      "2922.88\n",
      "0.51\n"
     ]
    }
   ],
   "source": [
    "### DO NOT EDIT THIS CELL!!!\n",
    "\n",
    "# compare results from our implementation to that of SGDRegressor\n",
    "# your mse and r2 score above should match (or be very close to) what you get from here\n",
    "\n",
    "nepochs = 5000\n",
    "alpha = 0.5\n",
    "y = y.reshape(y.shape[0],) # to avoid warning\n",
    "\n",
    "from sklearn.linear_model import SGDRegressor\n",
    "clf = SGDRegressor(loss='squared_loss', # mse for linear regression\n",
    "                    penalty=None, alpha=0, # no regularization\n",
    "                    max_iter=nepochs, tol=None, # stop based on only on nepochs\n",
    "                    shuffle=False, random_state=0, # don't shuffle, use random state to replicate results\n",
    "                    learning_rate='constant', eta0=alpha) # constant learning rate of alpha\n",
    "clf.fit(X,y)\n",
    "yhat = clf.predict(X)\n",
    "print (round(mean_squared_error(y, yhat),2))\n",
    "print (round(clf.score(X,y),2))"
   ]
  }
 ],
 "metadata": {
  "kernelspec": {
   "display_name": "Python 3",
   "language": "python",
   "name": "python3"
  },
  "language_info": {
   "codemirror_mode": {
    "name": "ipython",
    "version": 3
   },
   "file_extension": ".py",
   "mimetype": "text/x-python",
   "name": "python",
   "nbconvert_exporter": "python",
   "pygments_lexer": "ipython3",
   "version": "3.8.8"
  }
 },
 "nbformat": 4,
 "nbformat_minor": 2
}
